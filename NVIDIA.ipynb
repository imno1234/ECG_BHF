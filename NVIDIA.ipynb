{
 "cells": [
  {
   "cell_type": "code",
   "execution_count": 2,
   "id": "98cd1772-2a0a-463e-a749-797ffd204a95",
   "metadata": {},
   "outputs": [],
   "source": [
    "import torch\n",
    "torch.cuda.empty_cache()"
   ]
  },
  {
   "cell_type": "code",
   "execution_count": 3,
   "id": "5667bb61-dcea-4166-b05d-8f072d9d6e9c",
   "metadata": {},
   "outputs": [
    {
     "name": "stdout",
     "output_type": "stream",
     "text": [
      "Fri Dec  6 18:41:26 2024       \n",
      "+-----------------------------------------------------------------------------------------+\n",
      "| NVIDIA-SMI 565.90                 Driver Version: 565.90         CUDA Version: 12.7     |\n",
      "|-----------------------------------------+------------------------+----------------------+\n",
      "| GPU  Name                  Driver-Model | Bus-Id          Disp.A | Volatile Uncorr. ECC |\n",
      "| Fan  Temp   Perf          Pwr:Usage/Cap |           Memory-Usage | GPU-Util  Compute M. |\n",
      "|                                         |                        |               MIG M. |\n",
      "|=========================================+========================+======================|\n",
      "|   0  NVIDIA GeForce RTX 4090      WDDM  |   00000000:01:00.0  On |                  Off |\n",
      "|  0%   38C    P8             18W /  450W |     406MiB /  24564MiB |      5%      Default |\n",
      "|                                         |                        |                  N/A |\n",
      "+-----------------------------------------+------------------------+----------------------+\n",
      "                                                                                         \n",
      "+-----------------------------------------------------------------------------------------+\n",
      "| Processes:                                                                              |\n",
      "|  GPU   GI   CI        PID   Type   Process name                              GPU Memory |\n",
      "|        ID   ID                                                               Usage      |\n",
      "|=========================================================================================|\n",
      "|    0   N/A  N/A      1472    C+G   ...5n1h2txyewy\\ShellExperienceHost.exe      N/A      |\n",
      "|    0   N/A  N/A      4320    C+G   ...ekyb3d8bbwe\\PhoneExperienceHost.exe      N/A      |\n",
      "|    0   N/A  N/A      6376    C+G   ...__8wekyb3d8bbwe\\WindowsTerminal.exe      N/A      |\n",
      "|    0   N/A  N/A      6996    C+G   C:\\Windows\\explorer.exe                     N/A      |\n",
      "|    0   N/A  N/A      8260    C+G   ...CBS_cw5n1h2txyewy\\TextInputHost.exe      N/A      |\n",
      "|    0   N/A  N/A      8368    C+G   ...nt.CBS_cw5n1h2txyewy\\SearchHost.exe      N/A      |\n",
      "|    0   N/A  N/A      8392    C+G   ...2txyewy\\StartMenuExperienceHost.exe      N/A      |\n",
      "|    0   N/A  N/A     10992    C+G   ...cal\\Microsoft\\OneDrive\\OneDrive.exe      N/A      |\n",
      "|    0   N/A  N/A     12264    C+G   ...t.LockApp_cw5n1h2txyewy\\LockApp.exe      N/A      |\n",
      "|    0   N/A  N/A     13032    C+G   ...oogle\\Chrome\\Application\\chrome.exe      N/A      |\n",
      "|    0   N/A  N/A     13756    C+G   ...siveControlPanel\\SystemSettings.exe      N/A      |\n",
      "+-----------------------------------------------------------------------------------------+\n"
     ]
    }
   ],
   "source": [
    "!nvidia-smi"
   ]
  },
  {
   "cell_type": "code",
   "execution_count": 61,
   "id": "e499089d-e7f5-4e69-b065-7b375a623489",
   "metadata": {},
   "outputs": [
    {
     "name": "stdout",
     "output_type": "stream",
     "text": [
      "CPU 사용률: 8.5%\n",
      "CPU 코어 수: 24\n",
      "전체 메모리: 64658MB\n",
      "사용 가능한 메모리: 25963MB\n",
      "사용 중인 메모리: 38695MB\n",
      "전체 디스크 용량: 1862GB\n",
      "사용 중인 디스크 용량: 355GB\n",
      "여유 있는 디스크 용량: 1506GB\n"
     ]
    }
   ],
   "source": [
    "import psutil\n",
    "import shutil\n",
    "\n",
    "# CPU 정보 얻기\n",
    "cpu_percent = psutil.cpu_percent()\n",
    "cpu_count = psutil.cpu_count()\n",
    "\n",
    "print(f\"CPU 사용률: {cpu_percent}%\")\n",
    "print(f\"CPU 코어 수: {cpu_count}\")\n",
    "\n",
    "# 메모리 정보 얻기\n",
    "virtual_memory = psutil.virtual_memory()\n",
    "\n",
    "total_memory = virtual_memory.total // (1024*1024)\n",
    "available_memory = virtual_memory.available // (1024*1024)\n",
    "used_memory = total_memory - available_memory\n",
    "\n",
    "print(f\"전체 메모리: {total_memory}MB\")\n",
    "print(f\"사용 가능한 메모리: {available_memory}MB\")\n",
    "print(f\"사용 중인 메모리: {used_memory}MB\")\n",
    "\n",
    "# 디스크 정보 얻기\n",
    "disk_usage = shutil.disk_usage('/')\n",
    "\n",
    "total_disk_space = disk_usage.total // (1024*1024*1024)\n",
    "used_disk_space = disk_usage.used // (1024*1024*1024)\n",
    "free_disk_space = disk_usage.free // (1024*1024*1024)\n",
    "\n",
    "print(f\"전체 디스크 용량: {total_disk_space}GB\")\n",
    "print(f\"사용 중인 디스크 용량: {used_disk_space}GB\")\n",
    "print(f\"여유 있는 디스크 용량: {free_disk_space}GB\")"
   ]
  },
  {
   "cell_type": "code",
   "execution_count": null,
   "id": "1f4dd561-63e4-48d7-a67e-69e3140a99bc",
   "metadata": {},
   "outputs": [],
   "source": []
  }
 ],
 "metadata": {
  "kernelspec": {
   "display_name": "Python 3 (ipykernel)",
   "language": "python",
   "name": "python3"
  },
  "language_info": {
   "codemirror_mode": {
    "name": "ipython",
    "version": 3
   },
   "file_extension": ".py",
   "mimetype": "text/x-python",
   "name": "python",
   "nbconvert_exporter": "python",
   "pygments_lexer": "ipython3",
   "version": "3.12.7"
  }
 },
 "nbformat": 4,
 "nbformat_minor": 5
}
