{
 "cells": [
  {
   "cell_type": "code",
   "execution_count": 1,
   "id": "48e0b70f-77d7-4c9a-81eb-758623d9efc3",
   "metadata": {
    "scrolled": true
   },
   "outputs": [
    {
     "data": {
      "text/plain": [
       "<torch._C.Generator at 0x1973c197f10>"
      ]
     },
     "execution_count": 1,
     "metadata": {},
     "output_type": "execute_result"
    }
   ],
   "source": [
    "from PIL import Image\n",
    "import cv2\n",
    "import os\n",
    "import numpy as np\n",
    "import matplotlib\n",
    "import matplotlib.pyplot as plt\n",
    "from matplotlib.gridspec import GridSpec\n",
    "import torch\n",
    "import torch.nn as nn\n",
    "import torch.optim as optim\n",
    "import math\n",
    "from torch.optim.lr_scheduler import _LRScheduler\n",
    "from torch.utils.data import DataLoader, Dataset, random_split\n",
    "from torchvision import datasets, transforms\n",
    "from torchvision.transforms import ToTensor, Lambda\n",
    "import pandas as pd\n",
    "from sklearn.model_selection import train_test_split\n",
    "from einops.layers.torch import Rearrange\n",
    "from torchinfo import summary\n",
    "from tqdm import tqdm\n",
    "import time\n",
    "import pickle\n",
    "\n",
    "from ECGDataset import ECGDataset\n",
    "\n",
    "device = torch.device('cuda' if torch.cuda.is_available() else 'cpu')\n",
    "\n",
    "torch.manual_seed(0)"
   ]
  },
  {
   "cell_type": "code",
   "execution_count": 55,
   "id": "fd5984c0-399e-4979-a8e4-5a9076df044b",
   "metadata": {},
   "outputs": [],
   "source": [
    "folder = 'train_1'\n",
    "SAVE_PATH = r'C:\\Users\\trust\\bhf-data-science-centre-ecg-challenge'\n",
    "\n",
    "n_batch = 256\n",
    "n_workers = 0\n",
    "\n",
    "# ImageTransformer, ECGDataset constants\n",
    "#IMG_NOISE = 10 # add noise in image transformer / deprecated due to time issue, take too much time... \n",
    "fft_overlap = 4 # 현재 칸에서 좌우 총 몇 칸을 fft 할지\n",
    "fft_zoom = 5 # fft 결과 얼마나 확대할지 / 앞에서 얼만큼을 취할지\n",
    "fft_res = 16 # = n_patch, probably / 가로를 몇 등분해서 fft 할지\n",
    "height = 480 # target resize in image transform = model input size\n",
    "width = 864 # target resize in image transform = model input size\n",
    "\n",
    "# Model constants\n",
    "in_channel = 3 # gray image 1 + fft mag 1 + fft phase 1\n",
    "n_class = 5 # out class / 질환군 5개에 대한 예측\n",
    "embd_size = 324 # conv2d out channel = multihead attn in/out dim\n",
    "n_patch = 16 # how many patchs per height, width in ViT\n",
    "n_layer = 6 # Transformer encoder block number\n",
    "n_head = 6 # n_head of multihead attn / embd_size must be divisible by n_heads\n",
    "mha_drop = 0.2 # drop out p of multi head attn\n",
    "ff_expansion = 2 # expansion = hidden dim / in/out dim ratio of feedforward in transformer encoder\n",
    "ff_drop = 0.2 # drop out p of of feedforward in transformer encoder"
   ]
  },
  {
   "cell_type": "code",
   "execution_count": 5,
   "id": "762b622a-62dc-429f-b6da-060f450786d7",
   "metadata": {},
   "outputs": [],
   "source": [
    "# Data Check"
   ]
  },
  {
   "cell_type": "code",
   "execution_count": 13,
   "id": "3d1b9d8e-2044-4782-8de7-d7e67ec976da",
   "metadata": {
    "jupyter": {
     "source_hidden": true
    }
   },
   "outputs": [
    {
     "name": "stdout",
     "output_type": "stream",
     "text": [
      "Already exist\n"
     ]
    }
   ],
   "source": [
    "# Valid Image file path list save\n",
    "content_dir = os.path.join(SAVE_PATH, folder)\n",
    "txt_dir = os.path.join(SAVE_PATH,'preprocess',folder+'.txt')\n",
    "\n",
    "if os.path.isfile(txt_dir):\n",
    "    print('Already exist')\n",
    "else:\n",
    "    len_corr = 0\n",
    "    len_tot = 0\n",
    "    with open(txt_dir,\"w\") as file:\n",
    "        for n in os.listdir(content_dir):\n",
    "            img_path = os.path.join(content_dir,n)\n",
    "            len_tot +=1\n",
    "            try:\n",
    "                Image.open(img_path).verify()\n",
    "                file.write(img_path + \"\\n\")\n",
    "                len_corr += 1\n",
    "                \"\"\"\n",
    "                if cv2.imread(img_path) is not None:\n",
    "                    file.write(img_path + \"\\n\")\n",
    "                    len_corr += 1\n",
    "                else:\n",
    "                    print(img_path)\n",
    "                \"\"\"\n",
    "            except:\n",
    "                print(img_path)\n",
    "                continue\n",
    "        file.close()\n",
    "    print(len_corr,'/',len_tot)"
   ]
  },
  {
   "cell_type": "code",
   "execution_count": 15,
   "id": "57c2caf3-7b65-4710-8a79-57cdb4ca9f6e",
   "metadata": {},
   "outputs": [],
   "source": [
    "# Data Load"
   ]
  },
  {
   "cell_type": "code",
   "execution_count": 17,
   "id": "73a411a3-1248-4cab-b639-d1b6a3b68bef",
   "metadata": {
    "jupyter": {
     "source_hidden": true
    }
   },
   "outputs": [],
   "source": [
    "class ImageTransform():\n",
    "    def __init__(self, target_height, target_width, fft_overlap, fft_zoom, fft_res):\n",
    "        self.height = target_height\n",
    "        self.width = target_width\n",
    "        self.fft_overlap = fft_overlap\n",
    "        self.fft_zoom = fft_zoom\n",
    "        self.fft_res = fft_res\n",
    "        self.transform = transforms.Compose([\n",
    "            transforms.ToTensor(),\n",
    "            transforms.Resize((self.height,self.width))\n",
    "        ])\n",
    "\n",
    "    def __call__(self, img):\n",
    "        #gray = cv2.cvtColor(img, cv2.COLOR_BGR2GRAY) # already read in gray\n",
    "        height, width = img.shape\n",
    "        \n",
    "        \"\"\" Add Noise / deprecated due to time issue, take too much time... \n",
    "        for i in range(height):\n",
    "            for j in range(width):\n",
    "                img[i][j] += np.random.normal() * IMG_NOISE # add random noise\n",
    "        \"\"\"\n",
    "        \n",
    "        gray = cv2.adaptiveThreshold(img, 255,  cv2.ADAPTIVE_THRESH_GAUSSIAN_C, cv2.THRESH_BINARY, 159, 0) # cv2.adaptive( img / gray )\n",
    "        kernel = cv2.getStructuringElement(cv2.MORPH_ELLIPSE,(4,4))\n",
    "        gray = cv2.dilate(gray, kernel)\n",
    "        gray = cv2.bitwise_not(gray)\n",
    "\n",
    "        crop_h = height//self.fft_res\n",
    "        crop_w = width//self.fft_res\n",
    "        fft = np.zeros((height,width,2))\n",
    "\n",
    "        k=1 # fft -k ~ +(fft_overlap-k) patch\n",
    "        gray_extend = np.zeros((height, (width-4)*2))\n",
    "        gray_extend[:,0:k*crop_w] = gray[:,-2-k*crop_w:-2]\n",
    "        gray_extend[:,k*crop_w:(k+fft_res)*crop_w] = gray[:,2:-2]\n",
    "        gray_extend[:,(k+fft_res)*crop_w:] = gray[:,2:-2-k*crop_w]\n",
    "                               \n",
    "        for j in range(self.fft_res):\n",
    "            \"\"\"\n",
    "            gray_slide = np.zeros((height,width))\n",
    "            i = (self.fft_res + j - 1) % self.fft_res\n",
    "            gray_slide[:,2:-2-i*crop_w] = gray[:,2+i*crop_w:-2]\n",
    "            gray_slide[:,-2-i*crop_w:-2] = gray[:,2:2+i*crop_w]\n",
    "            fft_img = np.fft.fft(gray_slide[:,2:2+crop_w*self.fft_overlap])/crop_w/self.fft_overlap\n",
    "            \"\"\"\n",
    "            fft_img = np.fft.fft(gray_extend[:,crop_w*j:crop_w*(j+self.fft_overlap)])/crop_w/self.fft_overlap\n",
    "            fft_mag = np.abs(fft_img[:,:crop_w//self.fft_zoom]) * 30\n",
    "            fft_phase = np.angle(fft_img[:,:crop_w//self.fft_zoom]) + np.pi\n",
    "            fft[:,2+crop_w*j:2+crop_w*(j+1),0] = cv2.resize(fft_mag, dsize=(crop_w,height))\n",
    "            fft[:,2+crop_w*j:2+crop_w*(j+1),1] = cv2.resize(fft_phase, dsize=(crop_w,height))\n",
    "        return self.transform(np.dstack([img,fft]))"
   ]
  },
  {
   "cell_type": "code",
   "execution_count": 15,
   "id": "ac0dd676-dee5-402d-887e-58ece02c1715",
   "metadata": {
    "jupyter": {
     "source_hidden": true
    }
   },
   "outputs": [
    {
     "name": "stdout",
     "output_type": "stream",
     "text": [
      "init start\n",
      "init ongoing... 50 img done\n",
      "init ongoing... 100 img done\n",
      "init ongoing... 150 img done\n",
      "init ongoing... 200 img done\n",
      "init ongoing... 250 img done\n",
      "init ongoing... 300 img done\n",
      "init ongoing... 350 img done\n",
      "init ongoing... 400 img done\n",
      "init ongoing... 450 img done\n",
      "init ongoing... 500 img done\n",
      "init ongoing... 550 img done\n",
      "init done with 599 img\n",
      "init start\n",
      "init ongoing... 50 img done\n",
      "init ongoing... 100 img done\n",
      "init ongoing... 150 img done\n",
      "init ongoing... 200 img done\n",
      "init done with 200 img\n",
      "init start\n",
      "init ongoing... 50 img done\n",
      "init ongoing... 100 img done\n",
      "init ongoing... 150 img done\n",
      "init ongoing... 200 img done\n",
      "init done with 200 img\n"
     ]
    }
   ],
   "source": [
    "# data load\n",
    "txt_dir = os.path.join(SAVE_PATH,'preprocess',folder+'.txt')\n",
    "corr_img_path = np.array(open(txt_dir,\"r\").read().splitlines())\n",
    "\n",
    "train_path, test_path = train_test_split(corr_img_path, test_size = 0.4, random_state=17, shuffle=True)\n",
    "val_path, test_path = train_test_split(test_path, test_size = 0.5, random_state=17, shuffle=True)\n",
    "\n",
    "csv_path = os.path.join(SAVE_PATH,'train_final.csv')\n",
    "label_data = pd.read_csv(csv_path).set_index('ID')\n",
    "\n",
    "train_dataset = ECGDataset(train_path, label_data, ImageTransform(height, width, fft_overlap, fft_zoom, fft_res))\n",
    "val_dataset = ECGDataset(val_path, label_data, ImageTransform(height, width, fft_overlap, fft_zoom, fft_res))\n",
    "test_dataset = ECGDataset(test_path, label_data, ImageTransform(height, width, fft_overlap, fft_zoom, fft_res))"
   ]
  },
  {
   "cell_type": "code",
   "execution_count": 17,
   "id": "7210e2fc-1b13-4476-89fc-4c724e07a177",
   "metadata": {
    "jupyter": {
     "source_hidden": true
    }
   },
   "outputs": [],
   "source": [
    "# dataset pickle save\n",
    "train_dataset_save_path = os.path.join(SAVE_PATH,'preprocess',folder+'_train_dataset.pickle')\n",
    "val_dataset_save_path = os.path.join(SAVE_PATH,'preprocess',folder+'_val_dataset.pickle')\n",
    "test_dataset_save_path = os.path.join(SAVE_PATH,'preprocess',folder+'_test_dataset.pickle')\n",
    "\n",
    "with open(train_dataset_save_path,\"wb\") as f:\n",
    "    pickle.dump(train_dataset, f)\n",
    "with open(val_dataset_save_path,\"wb\") as f:\n",
    "    pickle.dump(val_dataset, f)\n",
    "with open(test_dataset_save_path,\"wb\") as f:\n",
    "    pickle.dump(test_dataset, f)"
   ]
  },
  {
   "cell_type": "code",
   "execution_count": 7,
   "id": "1aa38de7-92cf-4831-9c34-52ce071957c1",
   "metadata": {},
   "outputs": [],
   "source": [
    "# dataset pickle load\n",
    "train_dataset_save_path = os.path.join(SAVE_PATH,'preprocess',folder+'_train_dataset.pickle')\n",
    "val_dataset_save_path = os.path.join(SAVE_PATH,'preprocess',folder+'_val_dataset.pickle')\n",
    "test_dataset_save_path = os.path.join(SAVE_PATH,'preprocess',folder+'_test_dataset.pickle')\n",
    "\n",
    "with open(train_dataset_save_path,\"rb\") as f:\n",
    "    train_dataset = pickle.load(f)\n",
    "with open(val_dataset_save_path,\"rb\") as f:\n",
    "    val_dataset = pickle.load(f)\n",
    "with open(test_dataset_save_path,\"rb\") as f:\n",
    "    test_dataset = pickle.load(f)"
   ]
  },
  {
   "cell_type": "code",
   "execution_count": 8,
   "id": "b8b38107-0677-4985-a84e-bcf361feff2b",
   "metadata": {
    "jupyter": {
     "source_hidden": true
    }
   },
   "outputs": [],
   "source": [
    "# dataset to dataloader\n",
    "train_dataloader = DataLoader(train_dataset, batch_size=n_batch, shuffle=True, num_workers=n_workers, pin_memory=True)\n",
    "val_dataloader = DataLoader(val_dataset, batch_size=n_batch, shuffle=True, num_workers=n_workers, pin_memory=True)\n",
    "test_dataloader = DataLoader(test_dataset, batch_size=n_batch, shuffle=True, num_workers=n_workers, pin_memory=True)"
   ]
  },
  {
   "cell_type": "code",
   "execution_count": 13,
   "id": "d0e1025d-6550-46c8-9454-1372f18c9de4",
   "metadata": {
    "jupyter": {
     "source_hidden": true
    }
   },
   "outputs": [
    {
     "name": "stdout",
     "output_type": "stream",
     "text": [
      "torch.Size([3, 480, 864])\n",
      "tensor([0., 0., 1., 0., 0.])\n",
      "torch.Size([256, 3, 480, 864])\n",
      "torch.Size([256, 5])\n"
     ]
    }
   ],
   "source": [
    "# dataload 중간 결과 확인\n",
    "item = train_dataset.__getitem__(8)\n",
    "print(item[0].size())\n",
    "print(item[1])\n",
    "\n",
    "batch_iter = iter(train_dataloader)\n",
    "inputs, label = next(batch_iter)\n",
    "print(inputs.size())\n",
    "print(label.size())"
   ]
  },
  {
   "cell_type": "code",
   "execution_count": 9,
   "id": "f911a05b-beee-49ad-8590-b21b45e6293f",
   "metadata": {},
   "outputs": [],
   "source": [
    "# ViT Model"
   ]
  },
  {
   "cell_type": "code",
   "execution_count": 13,
   "id": "b694f95f-ce0e-40d9-91aa-59178aeac9c1",
   "metadata": {
    "jupyter": {
     "source_hidden": true
    }
   },
   "outputs": [],
   "source": [
    "class EmbeddingLayer(nn.Module):\n",
    "    def __init__(self, in_channel, embd_size, height, width, n_patch):\n",
    "        super().__init__()\n",
    "        patch_size = (height//n_patch, width//n_patch)\n",
    "        self.project = nn.Sequential(\n",
    "            nn.Conv2d(in_channel, embd_size, kernel_size=patch_size, stride=patch_size),\n",
    "            # n_batch, in_channel, height, width -> n_batch, embd_size, n_patch, n_patch\n",
    "            Rearrange('b c (h) (w) -> b (h w) c')\n",
    "            # n_batch, embd_size, n_patch, n_patch -> n_batch, n_patch**2, embd_size\n",
    "        )\n",
    "        self.cls_token = nn.Parameter(torch.randn(1,1,embd_size)) # 1, 1, embd_size\n",
    "        self.positions = nn.Parameter(torch.randn(n_patch**2 + 1,embd_size)) # n_batch, 1 + n_patch**2, embd_size\n",
    "\n",
    "    def forward(self, x):\n",
    "        x = self.project(x)\n",
    "        # n_batch, in_channel, height, width -> n_batch, embd_size, n_patch, n_patch -> n_batch, n_patch**2, embd_size\n",
    "        cls_tokens = self.cls_token.repeat(x.shape[0], 1,1) # 1, 1, embd_size -> n_batch, 1, embd_size\n",
    "        x = torch.cat((cls_tokens, x), dim=1) # n_batch, 1 + n_patch**2, embd_size\n",
    "        x += self.positions # n_batch, 1 + n_patch**2, embd_size\n",
    "        return x # n_batch, 1 + n_patch**2, embd_size"
   ]
  },
  {
   "cell_type": "code",
   "execution_count": 15,
   "id": "f604a70e-788c-43bb-aac4-db0207b03560",
   "metadata": {
    "jupyter": {
     "source_hidden": true
    }
   },
   "outputs": [],
   "source": [
    "class MultiheadAttn(nn.Module):\n",
    "    def __init__(self, embd_size, n_head, mha_drop):\n",
    "        super().__init__()\n",
    "        self.multiheadattn = nn.MultiheadAttention(embd_size, n_head, dropout=mha_drop, batch_first=True)\n",
    "        self.query = nn.Linear(embd_size, embd_size)\n",
    "        self.key = nn.Linear(embd_size, embd_size)\n",
    "        self.value = nn.Linear(embd_size, embd_size)\n",
    "\n",
    "    def forward(self, x):\n",
    "        query = self.query(x)\n",
    "        key = self.key(x)\n",
    "        value = self.value(x)\n",
    "        return self.multiheadattn(query, key, value, need_weights=False)"
   ]
  },
  {
   "cell_type": "code",
   "execution_count": 17,
   "id": "62b2caa0-7a27-4ae6-af67-4f5f97ede37b",
   "metadata": {
    "jupyter": {
     "source_hidden": true
    }
   },
   "outputs": [],
   "source": [
    "class FeedForwardBlock(nn.Sequential):\n",
    "    def __init__(self, embd_size, ff_expansion, ff_drop):\n",
    "        super().__init__(\n",
    "            nn.Linear(embd_size, ff_expansion*embd_size),\n",
    "            nn.GELU(),\n",
    "            nn.Dropout(ff_drop),\n",
    "            nn.Linear(ff_expansion*embd_size,embd_size)\n",
    "        )"
   ]
  },
  {
   "cell_type": "code",
   "execution_count": 19,
   "id": "f250a234-a43c-4d6b-8abe-8323fec0aa7d",
   "metadata": {
    "jupyter": {
     "source_hidden": true
    }
   },
   "outputs": [],
   "source": [
    "class TransformerEncoderBlock(nn.Module):\n",
    "    def __init__(self, embd_size, n_head, mha_drop, ff_expansion, ff_drop):\n",
    "        super().__init__()\n",
    "        self.mha = MultiheadAttn(embd_size, n_head, mha_drop)\n",
    "        self.ffb = FeedForwardBlock(embd_size, ff_expansion, ff_drop)\n",
    "        self.lnorm = nn.LayerNorm(embd_size)\n",
    "\n",
    "    def forward(self, x):\n",
    "        norm_x = self.lnorm(x)\n",
    "        multihead_out, attn = self.mha(norm_x)\n",
    "\n",
    "        out1 = multihead_out + x\n",
    "\n",
    "        norm_out = self.lnorm(out1)\n",
    "        ffb_out = self.ffb(norm_out)\n",
    "\n",
    "        out2 = ffb_out + out1\n",
    "        return out2\n",
    "\n",
    "class TransformerEncoder(nn.Sequential):\n",
    "    def __init__(self, n_layer, *args):\n",
    "        super().__init__(*[TransformerEncoderBlock(*args) for _ in range(n_layer)])"
   ]
  },
  {
   "cell_type": "code",
   "execution_count": 21,
   "id": "95acf5df-b0be-49b9-a909-37e5173b542d",
   "metadata": {
    "jupyter": {
     "source_hidden": true
    }
   },
   "outputs": [],
   "source": [
    "class ViT(nn.Module):\n",
    "    def __init__(\n",
    "            self,\n",
    "            n_class,\n",
    "            in_channel,\n",
    "            embd_size,\n",
    "            height,\n",
    "            width,\n",
    "            n_patch,\n",
    "            n_layer,\n",
    "            n_head,\n",
    "            mha_drop,\n",
    "            ff_expansion,\n",
    "            ff_drop\n",
    "        ):\n",
    "        super().__init__()\n",
    "        self.embd = EmbeddingLayer(in_channel, embd_size, height, width, n_patch)\n",
    "        self.encoder = TransformerEncoder(n_layer, embd_size, n_head, mha_drop, ff_expansion, ff_drop)\n",
    "        self.lnorm = nn.LayerNorm(embd_size)\n",
    "        self.head = nn.Linear(embd_size, n_class)\n",
    "\n",
    "    def forward(self, x):\n",
    "        x = self.embd(x)\n",
    "        x = self.encoder(x)\n",
    "        x = self.lnorm(x) # n_batch, n_patch**2 + 1, embd_size\n",
    "        cls_final = x[:,0] # n_batch, embd_size\n",
    "        return self.head(cls_final) # n_batch, n_class"
   ]
  },
  {
   "cell_type": "code",
   "execution_count": 23,
   "id": "f6a7b4fd-500f-4ea2-ab06-b37014c828f4",
   "metadata": {},
   "outputs": [],
   "source": [
    "# Training"
   ]
  },
  {
   "cell_type": "code",
   "execution_count": 25,
   "id": "def4ac82-cc8d-438a-abc7-17e14ff766ff",
   "metadata": {
    "jupyter": {
     "source_hidden": true
    }
   },
   "outputs": [],
   "source": [
    "# ASL Loss\n",
    "#https://github.com/Alibaba-MIIL/ASL/tree/main\n",
    "#Asymmetric Loss For Multi-Label Classification\n",
    "class AsymmetricLossOptimized(nn.Module):\n",
    "    ''' Notice - optimized version, minimizes memory allocation and gpu uploading,\n",
    "    favors inplace operations'''\n",
    "\n",
    "    def __init__(self, gamma_neg=4, gamma_pos=1, clip=0.05, eps=1e-8, disable_torch_grad_focal_loss=False):\n",
    "        super(AsymmetricLossOptimized, self).__init__()\n",
    "\n",
    "        self.gamma_neg = gamma_neg\n",
    "        self.gamma_pos = gamma_pos\n",
    "        self.clip = clip\n",
    "        self.disable_torch_grad_focal_loss = disable_torch_grad_focal_loss\n",
    "        self.eps = eps\n",
    "\n",
    "        # prevent memory allocation and gpu uploading every iteration, and encourages inplace operations\n",
    "        self.targets = self.anti_targets = self.xs_pos = self.xs_neg = self.asymmetric_w = self.loss = None\n",
    "\n",
    "    def forward(self, x, y):\n",
    "        \"\"\"\"\n",
    "        Parameters\n",
    "        ----------\n",
    "        x: input logits\n",
    "        y: targets (multi-label binarized vector)\n",
    "        \"\"\"\n",
    "\n",
    "        self.targets = y\n",
    "        self.anti_targets = 1 - y\n",
    "\n",
    "        # Calculating Probabilities\n",
    "        self.xs_pos = torch.sigmoid(x)\n",
    "        self.xs_neg = 1.0 - self.xs_pos\n",
    "\n",
    "        # Asymmetric Clipping\n",
    "        if self.clip is not None and self.clip > 0:\n",
    "            self.xs_neg.add_(self.clip).clamp_(max=1)\n",
    "\n",
    "        # Basic CE calculation\n",
    "        self.loss = self.targets * torch.log(self.xs_pos.clamp(min=self.eps))\n",
    "        self.loss.add_(self.anti_targets * torch.log(self.xs_neg.clamp(min=self.eps)))\n",
    "\n",
    "        # Asymmetric Focusing\n",
    "        if self.gamma_neg > 0 or self.gamma_pos > 0:\n",
    "            if self.disable_torch_grad_focal_loss:\n",
    "                torch.set_grad_enabled(False)\n",
    "            self.xs_pos = self.xs_pos * self.targets\n",
    "            self.xs_neg = self.xs_neg * self.anti_targets\n",
    "            self.asymmetric_w = torch.pow(1 - self.xs_pos - self.xs_neg,\n",
    "                                          self.gamma_pos * self.targets + self.gamma_neg * self.anti_targets)\n",
    "            if self.disable_torch_grad_focal_loss:\n",
    "                torch.set_grad_enabled(True)\n",
    "            self.loss *= self.asymmetric_w\n",
    "\n",
    "        return -self.loss.sum()"
   ]
  },
  {
   "cell_type": "code",
   "execution_count": 27,
   "id": "321b723c-7f46-44e1-b691-f66fb67d8887",
   "metadata": {
    "jupyter": {
     "source_hidden": true
    }
   },
   "outputs": [],
   "source": [
    "# Cosine Annealing Warmup Restarts\n",
    "#https://gaussian37.github.io/dl-pytorch-lr_scheduler/\n",
    "#https://github.com/katsura-jp/pytorch-cosine-annealing-with-warmup/tree/master\n",
    "class CosineAnnealingWarmupRestarts(_LRScheduler):\n",
    "    \"\"\"\n",
    "        optimizer (Optimizer): Wrapped optimizer.\n",
    "        first_cycle_steps (int): First cycle step size.\n",
    "        cycle_mult(float): Cycle steps magnification. Default: -1.\n",
    "        max_lr(float): First cycle's max learning rate. Default: 0.1.\n",
    "        min_lr(float): Min learning rate. Default: 0.001.\n",
    "        warmup_steps(int): Linear warmup step size. Default: 0.\n",
    "        gamma(float): Decrease rate of max learning rate by cycle. Default: 1.\n",
    "        last_epoch (int): The index of last epoch. Default: -1.\n",
    "    \"\"\"\n",
    "\n",
    "    def __init__(self,\n",
    "                 optimizer : torch.optim.Optimizer,\n",
    "                 first_cycle_steps : int,\n",
    "                 cycle_mult : float = 1.,\n",
    "                 max_lr : float = 0.1,\n",
    "                 min_lr : float = 0.001,\n",
    "                 warmup_steps : int = 0,\n",
    "                 gamma : float = 1.,\n",
    "                 last_epoch : int = -1\n",
    "        ):\n",
    "        assert warmup_steps < first_cycle_steps\n",
    "\n",
    "        self.first_cycle_steps = first_cycle_steps # first cycle step size\n",
    "        self.cycle_mult = cycle_mult # cycle steps magnification\n",
    "        self.base_max_lr = max_lr # first max learning rate\n",
    "        self.max_lr = max_lr # max learning rate in the current cycle\n",
    "        self.min_lr = min_lr # min learning rate\n",
    "        self.warmup_steps = warmup_steps # warmup step size\n",
    "        self.gamma = gamma # decrease rate of max learning rate by cycle\n",
    "\n",
    "        self.cur_cycle_steps = first_cycle_steps # first cycle step size\n",
    "        self.cycle = 0 # cycle count\n",
    "        self.step_in_cycle = last_epoch # step size of the current cycle\n",
    "\n",
    "        super(CosineAnnealingWarmupRestarts, self).__init__(optimizer, last_epoch)\n",
    "\n",
    "        # set learning rate min_lr\n",
    "        self.init_lr()\n",
    "\n",
    "    def init_lr(self):\n",
    "        self.base_lrs = []\n",
    "        for param_group in self.optimizer.param_groups:\n",
    "            param_group['lr'] = self.min_lr\n",
    "            self.base_lrs.append(self.min_lr)\n",
    "\n",
    "    def get_lr(self):\n",
    "        if self.step_in_cycle == -1:\n",
    "            return self.base_lrs\n",
    "        elif self.step_in_cycle < self.warmup_steps:\n",
    "            return [(self.max_lr - base_lr)*self.step_in_cycle / self.warmup_steps + base_lr for base_lr in self.base_lrs]\n",
    "        else:\n",
    "            return [base_lr + (self.max_lr - base_lr) \\\n",
    "                    * (1 + math.cos(math.pi * (self.step_in_cycle-self.warmup_steps) \\\n",
    "                                    / (self.cur_cycle_steps - self.warmup_steps))) / 2\n",
    "                    for base_lr in self.base_lrs]\n",
    "\n",
    "    def step(self, epoch=None):\n",
    "        if epoch is None:\n",
    "            epoch = self.last_epoch + 1\n",
    "            self.step_in_cycle = self.step_in_cycle + 1\n",
    "            if self.step_in_cycle >= self.cur_cycle_steps:\n",
    "                self.cycle += 1\n",
    "                self.step_in_cycle = self.step_in_cycle - self.cur_cycle_steps\n",
    "                self.cur_cycle_steps = int((self.cur_cycle_steps - self.warmup_steps) * self.cycle_mult) + self.warmup_steps\n",
    "        else:\n",
    "            if epoch >= self.first_cycle_steps:\n",
    "                if self.cycle_mult == 1.:\n",
    "                    self.step_in_cycle = epoch % self.first_cycle_steps\n",
    "                    self.cycle = epoch // self.first_cycle_steps\n",
    "                else:\n",
    "                    n = int(math.log((epoch / self.first_cycle_steps * (self.cycle_mult - 1) + 1), self.cycle_mult))\n",
    "                    self.cycle = n\n",
    "                    self.step_in_cycle = epoch - int(self.first_cycle_steps * (self.cycle_mult ** n - 1) / (self.cycle_mult - 1))\n",
    "                    self.cur_cycle_steps = self.first_cycle_steps * self.cycle_mult ** (n)\n",
    "            else:\n",
    "                self.cur_cycle_steps = self.first_cycle_steps\n",
    "                self.step_in_cycle = epoch\n",
    "\n",
    "        self.max_lr = self.base_max_lr * (self.gamma**self.cycle)\n",
    "        self.last_epoch = math.floor(epoch)\n",
    "        for param_group, lr in zip(self.optimizer.param_groups, self.get_lr()):\n",
    "            param_group['lr'] = lr"
   ]
  },
  {
   "cell_type": "code",
   "execution_count": 29,
   "id": "65ebf13f-3a43-4b73-bd0a-5026648a71c3",
   "metadata": {},
   "outputs": [],
   "source": [
    "model = ViT(n_class,in_channel,embd_size,height,width,n_patch,n_layer,n_head,mha_drop,ff_expansion,ff_drop).to(device)"
   ]
  },
  {
   "cell_type": "code",
   "execution_count": 139,
   "id": "943fc3fb-676f-45ea-953b-3f935903d877",
   "metadata": {},
   "outputs": [],
   "source": [
    "# ASL criterion constants\n",
    "gamma_neg = 0.2\n",
    "gamma_pos = 0\n",
    "clip = 0. # 0.05\n",
    "eps = 1e-8\n",
    "\n",
    "# cosine annealing warm restart scheduler constants\n",
    "first_cycle_steps = 50      #first_cycle_steps (int): First cycle step size\n",
    "cycle_mult = 1.0            #cycle_mult(float): Cycle steps magnification. Default: -1.0\n",
    "max_lr = 0.1                #max_lr(float): First cycle's max learning rate. Default: 0.1\n",
    "min_lr = 3e-4               #min_lr(float): Min learning rate. Default: 0.001\n",
    "warmup_steps = 15           #warmup_steps(int): Linear warmup step size. Default: 0\n",
    "gamma = 1.0                 #gamma(float): Decrease rate of max learning rate by cycle. Default: 1.0\n",
    "last_epoch = -1             #last_epoch (int): The index of last epoch. Default: -1\n",
    "\n",
    "n_epochs = 300\n",
    "MAX_GRADIENT = 100\n",
    "val_train_ratio = 5\n",
    "ACT = 3\n",
    "\n",
    "criterion = AsymmetricLossOptimized(gamma_neg, gamma_pos, clip, eps)\n",
    "optimizer = optim.Adam(model.parameters(), lr=min_lr)\n",
    "scheduler = CosineAnnealingWarmupRestarts(optimizer,first_cycle_steps,cycle_mult,max_lr,min_lr,warmup_steps,gamma)"
   ]
  },
  {
   "cell_type": "code",
   "execution_count": 33,
   "id": "b49ef990-76c5-48fc-acf2-7b1b51e493f3",
   "metadata": {
    "jupyter": {
     "source_hidden": true
    }
   },
   "outputs": [],
   "source": [
    "def training(model, dataloader, dataset, criterion, optimizer):\n",
    "    model.train()\n",
    "    running_loss = 0.0\n",
    "\n",
    "    for inputs, target in dataloader:\n",
    "        inputs = inputs.float().to(device)\n",
    "        target = target.float().to(device)\n",
    "        outputs = model(inputs)\n",
    "        loss = criterion(outputs, target)\n",
    "        running_loss += loss.item()\n",
    "        optimizer.zero_grad()\n",
    "        loss.backward()\n",
    "        #torch.nn.utils.clip_grad_norm_(model.parameters(), MAX_GRADIENT)\n",
    "        optimizer.step()\n",
    "\n",
    "    return running_loss"
   ]
  },
  {
   "cell_type": "code",
   "execution_count": 35,
   "id": "46d3e613-53ee-4e25-a642-5af05363c093",
   "metadata": {
    "jupyter": {
     "source_hidden": true
    }
   },
   "outputs": [],
   "source": [
    "def validating(model, dataloader, dataset, criterion):\n",
    "    model.eval()\n",
    "    running_loss = 0.0\n",
    "    \n",
    "    with torch.no_grad():\n",
    "        for inputs, target in dataloader:\n",
    "            inputs = inputs.float().to(device)\n",
    "            target = target.float().to(device)\n",
    "            outputs = model(inputs)\n",
    "            loss = criterion(outputs, target)\n",
    "            running_loss += loss.item()\n",
    "    \n",
    "    return running_loss"
   ]
  },
  {
   "cell_type": "code",
   "execution_count": 37,
   "id": "9f783429-d31a-489c-9de8-5dddc4156b48",
   "metadata": {
    "jupyter": {
     "source_hidden": true
    }
   },
   "outputs": [],
   "source": [
    "def save_loss(loss_data, save_path):\n",
    "    with open(save_path,\"w\") as file:\n",
    "        for item in loss_data:\n",
    "            file.write(str(item) + \"\\n\")\n",
    "        file.close()"
   ]
  },
  {
   "cell_type": "code",
   "execution_count": 39,
   "id": "185fffcb-3569-4292-8073-41785ecfda4f",
   "metadata": {
    "jupyter": {
     "source_hidden": true
    }
   },
   "outputs": [],
   "source": [
    "def print_loss(train_loss, val_loss):\n",
    "    plt.figure(figsize=(10,7))\n",
    "    plt.plot(train_loss, color='green', label='train loss')\n",
    "    plt.plot(list(range(val_train_ratio-1,len(train_loss),val_train_ratio)), val_loss, color='red', label='val loss')\n",
    "    plt.xlabel('Epochs')\n",
    "    plt.ylabel('Loss')\n",
    "    plt.legend()\n",
    "    plt.show()"
   ]
  },
  {
   "cell_type": "code",
   "execution_count": null,
   "id": "b190d952-d57f-44b1-bf7f-47ce1132cc06",
   "metadata": {},
   "outputs": [
    {
     "name": "stdout",
     "output_type": "stream",
     "text": [
      "Epoch 1 / 300\n",
      "Train Loss : 1206.8809\n",
      "Epoch 2 / 300\n",
      "Train Loss : 1207.8633\n",
      "Epoch 3 / 300\n",
      "Train Loss : 1208.3166\n",
      "Epoch 4 / 300\n",
      "Train Loss : 1207.0205\n",
      "Epoch 5 / 300\n",
      "Train Loss : 1207.4197\n",
      "Valid Loss : 1207.4965\n",
      "New loss record : 1207.496536\n",
      "Epoch 6 / 300\n",
      "Train Loss : 1207.3855\n",
      "Epoch 7 / 300\n",
      "Train Loss : 1207.7419\n",
      "Epoch 8 / 300\n",
      "Train Loss : 1206.6521\n",
      "Epoch 9 / 300\n",
      "Train Loss : 1207.9035\n",
      "Epoch 10 / 300\n",
      "Train Loss : 1207.3366\n",
      "Valid Loss : 1207.4945\n",
      "New loss record : 1207.494507\n",
      "Epoch 11 / 300\n",
      "Train Loss : 1208.1018\n",
      "Epoch 12 / 300\n",
      "Train Loss : 1207.7406\n",
      "Epoch 13 / 300\n",
      "Train Loss : 1208.2281\n",
      "Epoch 14 / 300\n",
      "Train Loss : 1207.5710\n",
      "Epoch 15 / 300\n",
      "Train Loss : 1207.8055\n",
      "Valid Loss : 1207.4950\n",
      "Epoch 16 / 300\n",
      "Train Loss : 1208.0450\n",
      "Epoch 17 / 300\n",
      "Train Loss : 1207.2653\n",
      "Epoch 18 / 300\n",
      "Train Loss : 1207.4537\n",
      "Epoch 19 / 300\n",
      "Train Loss : 1207.6290\n",
      "Epoch 20 / 300\n",
      "Train Loss : 1207.7830\n",
      "Valid Loss : 1207.4938\n",
      "New loss record : 1207.493774\n",
      "Epoch 21 / 300\n",
      "Train Loss : 1208.1812\n",
      "Epoch 22 / 300\n",
      "Train Loss : 1208.2462\n",
      "Epoch 23 / 300\n",
      "Train Loss : 1207.9243\n",
      "Epoch 24 / 300\n",
      "Train Loss : 1207.6866\n",
      "Epoch 25 / 300\n",
      "Train Loss : 1207.2708\n",
      "Valid Loss : 1207.4932\n",
      "New loss record : 1207.493164\n",
      "Epoch 26 / 300\n",
      "Train Loss : 1207.2307\n",
      "Epoch 27 / 300\n",
      "Train Loss : 1208.5068\n",
      "Epoch 28 / 300\n",
      "Train Loss : 1207.8977\n",
      "Epoch 29 / 300\n",
      "Train Loss : 1208.0884\n",
      "Epoch 30 / 300\n",
      "Train Loss : 1207.5744\n",
      "Valid Loss : 1207.4922\n",
      "New loss record : 1207.492249\n",
      "Epoch 31 / 300\n",
      "Train Loss : 1207.0598\n",
      "Epoch 32 / 300\n",
      "Train Loss : 1207.2833\n",
      "Epoch 33 / 300\n",
      "Train Loss : 1208.6740\n",
      "Epoch 34 / 300\n",
      "Train Loss : 1208.0358\n",
      "Epoch 35 / 300\n",
      "Train Loss : 1206.6661\n",
      "Valid Loss : 1207.4931\n",
      "Epoch 36 / 300\n",
      "Train Loss : 1206.7574\n",
      "Epoch 37 / 300\n",
      "Train Loss : 1207.9675\n",
      "Epoch 38 / 300\n",
      "Train Loss : 1208.4216\n",
      "Epoch 39 / 300\n",
      "Train Loss : 1207.7253\n",
      "Epoch 40 / 300\n",
      "Train Loss : 1207.4284\n",
      "Valid Loss : 1207.4957\n",
      "Epoch 41 / 300\n",
      "Train Loss : 1207.9069\n",
      "Epoch 42 / 300\n",
      "Train Loss : 1207.5037\n",
      "Epoch 43 / 300\n",
      "Train Loss : 1207.9786\n",
      "Epoch 44 / 300\n",
      "Train Loss : 1207.1933\n",
      "Epoch 45 / 300\n",
      "Train Loss : 1206.7461\n",
      "Valid Loss : 1207.4944\n",
      "Epoch 46 / 300\n",
      "Train Loss : 1207.7328\n",
      "Epoch 47 / 300\n",
      "Train Loss : 1207.7807\n",
      "Epoch 48 / 300\n",
      "Train Loss : 1207.3145\n",
      "Epoch 49 / 300\n",
      "Train Loss : 1207.7520\n",
      "Epoch 50 / 300\n",
      "Train Loss : 1206.5173\n",
      "Valid Loss : 1207.4921\n",
      "New loss record : 1207.492126\n",
      "Epoch 51 / 300\n",
      "Train Loss : 1207.2218\n",
      "Epoch 52 / 300\n",
      "Train Loss : 1208.4001\n",
      "Epoch 53 / 300\n",
      "Train Loss : 1207.0147\n",
      "Epoch 54 / 300\n",
      "Train Loss : 1207.5719\n",
      "Epoch 55 / 300\n",
      "Train Loss : 1207.6329\n",
      "Valid Loss : 1207.4899\n",
      "New loss record : 1207.489883\n",
      "Epoch 56 / 300\n",
      "Train Loss : 1207.5210\n",
      "Epoch 57 / 300\n",
      "Train Loss : 1207.1306\n",
      "Epoch 58 / 300\n",
      "Train Loss : 1207.5740\n",
      "Epoch 59 / 300\n",
      "Train Loss : 1207.7243\n",
      "Epoch 60 / 300\n",
      "Train Loss : 1208.0290\n",
      "Valid Loss : 1207.4907\n",
      "Epoch 61 / 300\n",
      "Train Loss : 1207.0763\n",
      "Epoch 62 / 300\n",
      "Train Loss : 1207.3043\n",
      "Epoch 63 / 300\n",
      "Train Loss : 1208.0446\n",
      "Epoch 64 / 300\n",
      "Train Loss : 1206.8199\n",
      "Epoch 65 / 300\n",
      "Train Loss : 1206.9681\n",
      "Valid Loss : 1207.4888\n",
      "New loss record : 1207.488800\n",
      "Epoch 66 / 300\n",
      "Train Loss : 1206.9297\n",
      "Epoch 67 / 300\n",
      "Train Loss : 1206.9393\n",
      "Epoch 68 / 300\n",
      "Train Loss : 1208.0556\n",
      "Epoch 69 / 300\n",
      "Train Loss : 1208.0593\n",
      "Epoch 70 / 300\n",
      "Train Loss : 1207.3306\n",
      "Valid Loss : 1207.4876\n",
      "New loss record : 1207.487610\n",
      "Epoch 71 / 300\n",
      "Train Loss : 1207.6465\n",
      "Epoch 72 / 300\n",
      "Train Loss : 1208.8359\n",
      "Epoch 73 / 300\n",
      "Train Loss : 1207.7987\n",
      "Epoch 74 / 300\n",
      "Train Loss : 1207.7445\n",
      "Epoch 75 / 300\n",
      "Train Loss : 1207.6113\n",
      "Valid Loss : 1207.4911\n",
      "Epoch 76 / 300\n",
      "Train Loss : 1207.8550\n",
      "Epoch 77 / 300\n",
      "Train Loss : 1207.6634\n",
      "Epoch 78 / 300\n",
      "Train Loss : 1206.8637\n",
      "Epoch 79 / 300\n",
      "Train Loss : 1207.0667\n",
      "Epoch 80 / 300\n",
      "Train Loss : 1208.1824\n",
      "Valid Loss : 1207.4915\n",
      "Epoch 81 / 300\n",
      "Train Loss : 1208.6838\n",
      "Epoch 82 / 300\n",
      "Train Loss : 1208.6200\n",
      "Epoch 83 / 300\n",
      "Train Loss : 1208.6380\n",
      "Epoch 84 / 300\n",
      "Train Loss : 1207.7882\n",
      "Epoch 85 / 300\n",
      "Train Loss : 1206.8449\n",
      "Valid Loss : 1207.4919\n",
      "Epoch 86 / 300\n",
      "Train Loss : 1207.8924\n",
      "Epoch 87 / 300\n",
      "Train Loss : 1207.6971\n",
      "Epoch 88 / 300\n",
      "Train Loss : 1208.2883\n",
      "Epoch 89 / 300\n",
      "Train Loss : 1208.4757\n",
      "Epoch 90 / 300\n",
      "Train Loss : 1208.0119\n",
      "Valid Loss : 1207.4921\n",
      "Epoch 91 / 300\n",
      "Train Loss : 1207.4407\n",
      "Epoch 92 / 300\n",
      "Train Loss : 1208.3413\n",
      "Epoch 93 / 300\n",
      "Train Loss : 1207.5587\n",
      "Epoch 94 / 300\n",
      "Train Loss : 1207.5779\n",
      "Epoch 95 / 300\n",
      "Train Loss : 1207.8144\n",
      "Valid Loss : 1207.4937\n",
      "Epoch 96 / 300\n",
      "Train Loss : 1207.4676\n",
      "Epoch 97 / 300\n"
     ]
    }
   ],
   "source": [
    "train_loss = []\n",
    "val_loss = []\n",
    "model_save_path = os.path.join(SAVE_PATH,'training',folder+'_ChkPt_'+str(ACT)+'.pt')\n",
    "train_loss_save_path = os.path.join(SAVE_PATH,'training',folder+'_train_loss_'+str(ACT)+'.txt')\n",
    "val_loss_save_path = os.path.join(SAVE_PATH,'training',folder+'_val_loss_'+str(ACT)+'.txt')\n",
    "\n",
    "start = time.time()\n",
    "min_loss = np.Inf\n",
    "\n",
    "for epoch in range(n_epochs):\n",
    "    print(f\"Epoch {epoch+1} / {n_epochs}\")\n",
    "    epoch_loss = training(model, train_dataloader, train_dataset, criterion, optimizer)\n",
    "    train_loss.append(epoch_loss)\n",
    "    print(f\"Train Loss : {epoch_loss:.4f}\")\n",
    "    if epoch % val_train_ratio == val_train_ratio - 1:\n",
    "        epoch_loss = validating(model, train_dataloader, train_dataset, criterion)\n",
    "        val_loss.append(epoch_loss)\n",
    "        print(f\"Valid Loss : {epoch_loss:.4f}\")\n",
    "        if epoch_loss < min_loss:\n",
    "            min_loss = epoch_loss\n",
    "            print(f'New loss record : {min_loss:.6f}')\n",
    "            #torch.save(model.state_dict(), model_save_path)\n",
    "    #scheduler.step()\n",
    "end = time.time()\n",
    "print(f\"Train Done > Training time : {(end-start)/60:.3f} minutes / {n_epochs} epochs\")\n",
    "#save_loss(train_loss, train_loss_save_path)\n",
    "#save_loss(val_loss, val_loss_save_path)\n",
    "print_loss(train_loss, val_loss)"
   ]
  },
  {
   "cell_type": "code",
   "execution_count": 43,
   "id": "deb76646-acd2-41b7-9b26-14266833e561",
   "metadata": {},
   "outputs": [],
   "source": [
    "torch.cuda.empty_cache()"
   ]
  },
  {
   "cell_type": "code",
   "execution_count": 131,
   "id": "8bb716b4-8179-44bb-ae3d-2826c0a06461",
   "metadata": {},
   "outputs": [],
   "source": [
    "torch.save(model.state_dict(), os.path.join(SAVE_PATH,'training',folder+'_ChkPt_2.pt'))"
   ]
  },
  {
   "cell_type": "code",
   "execution_count": 85,
   "id": "d063d1e4-614d-4852-a4f2-89c548ba57d8",
   "metadata": {},
   "outputs": [
    {
     "data": {
      "text/plain": [
       "<All keys matched successfully>"
      ]
     },
     "execution_count": 85,
     "metadata": {},
     "output_type": "execute_result"
    }
   ],
   "source": [
    "model.load_state_dict(torch.load(os.path.join(SAVE_PATH,'training',folder+'_ChkPt_4.pt'),weights_only=True))"
   ]
  },
  {
   "cell_type": "code",
   "execution_count": 135,
   "id": "d6497d03-d70a-480a-a31c-4d44ad3b1db3",
   "metadata": {},
   "outputs": [
    {
     "name": "stdout",
     "output_type": "stream",
     "text": [
      "loss :  tensor(683.2834, device='cuda:0')\n",
      "0  target  tensor([1., 1., 1., 0., 0.], device='cuda:0')\n",
      "0  output  tensor([0.2421, 0.1297, 0.2861, 0.2419, 0.1011], device='cuda:0')\n",
      "1  target  tensor([0., 0., 0., 0., 0.], device='cuda:0')\n",
      "1  output  tensor([0.2422, 0.1297, 0.2858, 0.2416, 0.1010], device='cuda:0')\n",
      "2  target  tensor([1., 0., 0., 0., 0.], device='cuda:0')\n",
      "2  output  tensor([0.2416, 0.1293, 0.2861, 0.2418, 0.1012], device='cuda:0')\n",
      "3  target  tensor([0., 0., 0., 0., 1.], device='cuda:0')\n",
      "3  output  tensor([0.2420, 0.1297, 0.2862, 0.2420, 0.1011], device='cuda:0')\n",
      "4  target  tensor([0., 0., 0., 0., 0.], device='cuda:0')\n",
      "4  output  tensor([0.2419, 0.1295, 0.2860, 0.2418, 0.1011], device='cuda:0')\n",
      "5  target  tensor([0., 0., 0., 0., 0.], device='cuda:0')\n",
      "5  output  tensor([0.2420, 0.1297, 0.2862, 0.2420, 0.1011], device='cuda:0')\n",
      "6  target  tensor([0., 0., 0., 0., 0.], device='cuda:0')\n",
      "6  output  tensor([0.2401, 0.1290, 0.2880, 0.2437, 0.1017], device='cuda:0')\n",
      "7  target  tensor([0., 0., 0., 1., 0.], device='cuda:0')\n",
      "7  output  tensor([0.2417, 0.1294, 0.2862, 0.2419, 0.1012], device='cuda:0')\n",
      "8  target  tensor([0., 0., 0., 0., 0.], device='cuda:0')\n",
      "8  output  tensor([0.2419, 0.1296, 0.2861, 0.2419, 0.1011], device='cuda:0')\n",
      "9  target  tensor([0., 0., 0., 0., 0.], device='cuda:0')\n",
      "9  output  tensor([0.2419, 0.1296, 0.2862, 0.2420, 0.1011], device='cuda:0')\n"
     ]
    }
   ],
   "source": [
    "def test(model, dataloader, dataset, criterion):\n",
    "    model.eval()\n",
    "    with torch.no_grad():\n",
    "        for inputs, target in dataloader:\n",
    "            #inputs, target = data[0].float().to(device), data[1].float().to(device)\n",
    "            inputs = inputs.float().to(device)\n",
    "            target = target.float().to(device)\n",
    "            #print(target)\n",
    "            outputs = model(inputs)\n",
    "            outputs = torch.sigmoid(outputs)\n",
    "            #print(torch.sigmoid(outputs))\n",
    "            print(\"loss : \",criterion(outputs, target))\n",
    "            for i in range(10):\n",
    "                print(i,\" target \",target[i])\n",
    "                print(i,\" output \",outputs[i])\n",
    "\n",
    "test(model, test_dataloader, test_dataset, criterion)"
   ]
  },
  {
   "cell_type": "code",
   "execution_count": null,
   "id": "781a9c4d-4105-4e3d-8645-c9d1f49fa10d",
   "metadata": {},
   "outputs": [],
   "source": []
  }
 ],
 "metadata": {
  "kernelspec": {
   "display_name": "Python 3 (ipykernel)",
   "language": "python",
   "name": "python3"
  },
  "language_info": {
   "codemirror_mode": {
    "name": "ipython",
    "version": 3
   },
   "file_extension": ".py",
   "mimetype": "text/x-python",
   "name": "python",
   "nbconvert_exporter": "python",
   "pygments_lexer": "ipython3",
   "version": "3.12.7"
  }
 },
 "nbformat": 4,
 "nbformat_minor": 5
}
